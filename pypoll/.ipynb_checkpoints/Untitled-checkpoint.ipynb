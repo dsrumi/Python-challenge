{
 "cells": [
  {
   "cell_type": "code",
   "execution_count": 1,
   "metadata": {},
   "outputs": [],
   "source": [
    "import os\n",
    "import csv"
   ]
  },
  {
   "cell_type": "code",
   "execution_count": 11,
   "id": "6042a1c9",
   "metadata": {},
   "outputs": [
    {
     "name": "stdout",
     "output_type": "stream",
     "text": [
      "Election Results\n",
      "------------------------\n",
      "Total votes: 369711\n",
      "------------------------\n",
      "Charles Casper Stockham: 23.049% (85213)\n",
      "Diana DeGette: 73.812% (272892)\n",
      "Raymon Anthony Doane: 3.139% (11606)\n",
      "------------------------\n",
      "Winner: Diana DeGette\n",
      "------------------------\n"
     ]
    }
   ],
   "source": [
    "poll_csv = os.path.join('..','Resources','election_data.csv')\n",
    "with open(poll_csv, 'r') as csvfile:\n",
    "    csvreader = csv.reader(csvfile)\n",
    "    total = -1\n",
    "    charles_votes = 0\n",
    "    diana_votes = 0\n",
    "    raymon_votes = 0\n",
    "    for row in csvreader:\n",
    "        total += 1\n",
    "        if row[2] == \"Charles Casper Stockham\":\n",
    "            charles_votes += 1\n",
    "        elif row[2] == \"Diana DeGette\":\n",
    "            diana_votes += 1\n",
    "        elif row[2] == \"Raymon Anthony Doane\":\n",
    "            raymon_votes += 1\n",
    "    charles_percentage = round(charles_votes/total *100,3)\n",
    "    diana_percentage =round(diana_votes/total * 100 ,3)\n",
    "    raymon_percentage = round(raymon_votes/total * 100 ,3)\n",
    "    print(\"Election Results\")\n",
    "    print(\"------------------------\")\n",
    "    print(f\"Total votes: {total}\")\n",
    "    print(\"------------------------\")\n",
    "    print(f\"Charles Casper Stockham: {charles_percentage}% ({charles_votes})\")\n",
    "    print(f\"Diana DeGette: {diana_percentage}% ({diana_votes})\")\n",
    "    print(f\"Raymon Anthony Doane: {raymon_percentage}% ({raymon_votes})\")\n",
    "    print(\"------------------------\")\n",
    "    winner_votes = max(charles_votes,diana_votes,raymon_votes)\n",
    "    #print(winner_votes)\n",
    "    if winner_votes == charles_votes:\n",
    "        print(\"Winner: Charles Casper Stockham \")\n",
    "    elif winner_votes == diana_votes:\n",
    "        print(\"Winner: Diana DeGette\")\n",
    "    else:\n",
    "        print(\"Winner: Raymon Anthony Doane\")\n",
    "    print(\"------------------------\")"
   ]
  },
  {
   "cell_type": "code",
   "execution_count": null,
   "id": "3a0e5e4d",
   "metadata": {},
   "outputs": [],
   "source": []
  },
  {
   "cell_type": "code",
   "execution_count": null,
   "id": "8c61d694",
   "metadata": {},
   "outputs": [],
   "source": []
  }
 ],
 "metadata": {
  "kernelspec": {
   "display_name": "dev",
   "language": "python",
   "name": "python3"
  },
  "language_info": {
   "codemirror_mode": {
    "name": "ipython",
    "version": 3
   },
   "file_extension": ".py",
   "mimetype": "text/x-python",
   "name": "python",
   "nbconvert_exporter": "python",
   "pygments_lexer": "ipython3",
   "version": "3.10.14"
  }
 },
 "nbformat": 4,
 "nbformat_minor": 5
}
